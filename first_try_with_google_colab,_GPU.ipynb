{
  "nbformat": 4,
  "nbformat_minor": 5,
  "metadata": {
    "kernelspec": {
      "display_name": "Python 3",
      "language": "python",
      "name": "python3"
    },
    "language_info": {
      "codemirror_mode": {
        "name": "ipython",
        "version": 3
      },
      "file_extension": ".py",
      "mimetype": "text/x-python",
      "name": "python",
      "nbconvert_exporter": "python",
      "pygments_lexer": "ipython3",
      "version": "3.6.8"
    },
    "colab": {
      "name": "first try with google colab, GPU.ipynb",
      "provenance": [],
      "collapsed_sections": [],
      "include_colab_link": true
    },
    "accelerator": "GPU"
  },
  "cells": [
    {
      "cell_type": "markdown",
      "metadata": {
        "id": "view-in-github",
        "colab_type": "text"
      },
      "source": [
        "<a href=\"https://colab.research.google.com/github/piano-open/colab/blob/main/first_try_with_google_colab%2C_GPU.ipynb\" target=\"_parent\"><img src=\"https://colab.research.google.com/assets/colab-badge.svg\" alt=\"Open In Colab\"/></a>"
      ]
    },
    {
      "cell_type": "markdown",
      "metadata": {
        "id": "9cdefe56"
      },
      "source": [
        "<h1>first try with google colab</h1>"
      ],
      "id": "9cdefe56"
    },
    {
      "cell_type": "markdown",
      "metadata": {
        "id": "NjMyEyL28Z_4"
      },
      "source": [
        ""
      ],
      "id": "NjMyEyL28Z_4"
    },
    {
      "cell_type": "code",
      "metadata": {
        "colab": {
          "base_uri": "https://localhost:8080/"
        },
        "id": "54c427d7",
        "outputId": "6d90f5e9-7d6d-41bb-8a02-64c98abe468d"
      },
      "source": [
        "from google.colab import drive\n",
        "drive.mount('/content/gdrive', force_remount=True)"
      ],
      "id": "54c427d7",
      "execution_count": 1,
      "outputs": [
        {
          "output_type": "stream",
          "name": "stdout",
          "text": [
            "Mounted at /content/gdrive\n"
          ]
        }
      ]
    },
    {
      "cell_type": "code",
      "metadata": {
        "id": "MH5E6PltqXRZ"
      },
      "source": [
        "import os \n",
        "import numpy as np \n",
        "import tensorflow as tf \n",
        "import time \n",
        "import random \n",
        "from PIL import Image \n",
        "import pickle \n",
        "import gc\n",
        "\n",
        "from google.colab import output \n",
        "def beep(): output.eval_js('new Audio(\"https://upload.wikimedia.org/wikipedia/commons/0/05/Beep-09.ogg\").play()')\n"
      ],
      "id": "MH5E6PltqXRZ",
      "execution_count": 2,
      "outputs": []
    },
    {
      "cell_type": "code",
      "metadata": {
        "id": "vCyLkig0ntkL"
      },
      "source": [
        "from matplotlib import pyplot as plt"
      ],
      "id": "vCyLkig0ntkL",
      "execution_count": 3,
      "outputs": []
    },
    {
      "cell_type": "code",
      "metadata": {
        "id": "41c9edd6"
      },
      "source": [
        "root_path = '/content/gdrive/MyDrive/ML_2021/MNIST'  #change dir to your project folder\n",
        "os.chdir(root_path)"
      ],
      "id": "41c9edd6",
      "execution_count": 4,
      "outputs": []
    },
    {
      "cell_type": "code",
      "metadata": {
        "id": "lygicKJKoekJ"
      },
      "source": [
        "with open('useful_e_data.pkl', 'rb') as f:\n",
        "    [train_x, val_x, test_x, train_y, val_y, test_y] = pickle.load(f)\n",
        "    \n",
        "beep()"
      ],
      "id": "lygicKJKoekJ",
      "execution_count": 5,
      "outputs": []
    },
    {
      "cell_type": "code",
      "metadata": {
        "colab": {
          "base_uri": "https://localhost:8080/"
        },
        "id": "Wm04ySNAoeqp",
        "outputId": "b9a52521-573f-4ac2-c92d-242b86e7a3bb"
      },
      "source": [
        "import sys\n",
        "gc.collect()\n",
        "def sizeof_fmt(num, suffix='B'):\n",
        "    ''' by Fred Cirera,  https://stackoverflow.com/a/1094933/1870254, modified'''\n",
        "    for unit in ['','Ki','Mi','Gi','Ti','Pi','Ei','Zi']:\n",
        "        if abs(num) < 1024.0:\n",
        "            return \"%3.1f %s%s\" % (num, unit, suffix)\n",
        "        num /= 1024.0\n",
        "    return \"%.1f %s%s\" % (num, 'Yi', suffix)\n",
        "\n",
        "for name, size in sorted(((name, sys.getsizeof(value)) for name, value in locals().items()),\n",
        "                         key= lambda x: -x[1])[:10]:\n",
        "    print(\"{:>30}: {:>8}\".format(name, sizeof_fmt(size)))"
      ],
      "id": "Wm04ySNAoeqp",
      "execution_count": 6,
      "outputs": [
        {
          "output_type": "stream",
          "name": "stdout",
          "text": [
            "                           _i6:  600.0 B\n",
            "                           _i2:  328.0 B\n",
            "                           _oh:  248.0 B\n",
            "                           Out:  248.0 B\n",
            "                             f:  184.0 B\n",
            "                            _i:  173.0 B\n",
            "                           _i5:  173.0 B\n",
            "                           _ii:  156.0 B\n",
            "                           _i4:  156.0 B\n",
            "                          beep:  144.0 B\n"
          ]
        }
      ]
    },
    {
      "cell_type": "markdown",
      "metadata": {
        "id": "HBrShUpCoeww"
      },
      "source": [
        "<h1>Build Network<h1/>"
      ],
      "id": "HBrShUpCoeww"
    },
    {
      "cell_type": "code",
      "metadata": {
        "id": "L4339LHgoe3Z"
      },
      "source": [
        "# reshape data\n",
        "train_x = train_x.reshape(np.shape(train_x)[0], np.shape(train_x)[1], np.shape(train_x)[2], 1)\n",
        "val_x = val_x.reshape(np.shape(val_x)[0], np.shape(val_x)[1], np.shape(val_x)[2], 1)\n",
        "test_x = test_x.reshape(np.shape(test_x)[0], np.shape(test_x)[1], np.shape(test_x)[2], 1)\n",
        "\n",
        "train_y = tf.one_hot(train_y.astype(np.int32), depth=10)\n",
        "val_y = tf.one_hot(val_y.astype(np.int32), depth=10)\n",
        "test_y = tf.one_hot(test_y.astype(np.int32), depth=10)\n"
      ],
      "id": "L4339LHgoe3Z",
      "execution_count": 7,
      "outputs": []
    },
    {
      "cell_type": "code",
      "metadata": {
        "id": "CYO3ECXboe-D"
      },
      "source": [
        ""
      ],
      "id": "CYO3ECXboe-D",
      "execution_count": 7,
      "outputs": []
    },
    {
      "cell_type": "code",
      "metadata": {
        "id": "bIz24UqAofEv"
      },
      "source": [
        "\n",
        "def train_cnn_sgd(lmbda, batch_size, n_eph, eta, decay_steps, decay_rate, train_x, train_y, val_x, val_y, test_x, test_y):\n",
        "    ################################################################\n",
        "    #   relu CNN network as described in chapter 6\n",
        "    ################################################################\n",
        "    tf.random.set_seed(42)\n",
        "    np.random.seed(42)\n",
        "    ################################################################\n",
        "    print('lmbda= {}\\n'.format(lmbda))\n",
        "    print('eta= {}\\n'.format(eta))\n",
        "    print('n_eph= {}\\n'.format(n_eph))\n",
        "    print('batch_size= {}\\n'.format(batch_size))\n",
        "    print('decay_steps= {}\\n'.format(decay_steps))\n",
        "    print('decay_rate= {}\\n'.format(decay_rate))\n",
        "    ################################################################\n",
        "    ################################################################\n",
        "    # construct netwoek model\n",
        "    input_shape = (28, 28, 1)\n",
        "    model = tf.keras.models.Sequential()\n",
        "    model.add(tf.keras.layers.Conv2D( # no padding\n",
        "            20,\n",
        "            (5,5),\n",
        "            activation=tf.nn.relu,\n",
        "            kernel_regularizer=tf.keras.regularizers.L2(l2=lmbda),\n",
        "            input_shape=input_shape))\n",
        "\n",
        "    model.add(tf.keras.layers.MaxPool2D(strides=(2,2)))\n",
        "\n",
        "    model.add(tf.keras.layers.Conv2D( # no padding\n",
        "            40,\n",
        "            (5,5),\n",
        "            activation=tf.nn.relu,\n",
        "            kernel_regularizer=tf.keras.regularizers.L2(l2=lmbda)))\n",
        "\n",
        "    model.add(tf.keras.layers.MaxPool2D(strides=(2,2)))\n",
        "\n",
        "    model.add(tf.keras.layers.Flatten())\n",
        "\n",
        "    model.add(tf.keras.layers.Dense(\n",
        "            100,\n",
        "            activation=tf.nn.relu,\n",
        "            kernel_regularizer=tf.keras.regularizers.L2(l2=lmbda)))\n",
        "\n",
        "    model.add(tf.keras.layers.Dense(10,activation=tf.nn.softmax))\n",
        "    ################################################################\n",
        "    lr_schedule = tf.keras.optimizers.schedules.ExponentialDecay(\n",
        "        initial_learning_rate=eta,\n",
        "        decay_steps=decay_steps,\n",
        "        decay_rate=decay_rate\n",
        "    )\n",
        "    ################################################################\n",
        "    # compile model\n",
        "    model.compile(\n",
        "        optimizer=tf.keras.optimizers.SGD(\n",
        "            learning_rate=lr_schedule,\n",
        "            momentum=0.0,\n",
        "            nesterov=False,\n",
        "            name=\"SGD\"),\n",
        "        loss='categorical_crossentropy',\n",
        "        metrics=['accuracy']\n",
        "    )\n",
        "    ################################################################\n",
        "    model.summary()\n",
        "    ################################################################\n",
        "    # save the model when val_acc is best\n",
        "    checkpoint_filepath = r'C:\\Users\\mchen\\OneDrive\\桌面\\ml\\code\\tutorial\\chapter6\\save_model\\expansion\\expansion'\n",
        "\n",
        "    model_checkpoint_callback = tf.keras.callbacks.ModelCheckpoint(\n",
        "        filepath=checkpoint_filepath,\n",
        "        save_weights_only=True,\n",
        "        monitor='val_accuracy',\n",
        "        mode='max',\n",
        "        save_best_only=True)\n",
        "    ################################################################\n",
        "    ################################################################\n",
        "    #    train model  \n",
        "    ts = time.time()\n",
        "    history = model.fit(\n",
        "        train_x, train_y, \n",
        "        epochs=n_eph,\n",
        "        batch_size=batch_size,\n",
        "        validation_data=(val_x, val_y),\n",
        "        callbacks=[model_checkpoint_callback],\n",
        "        shuffle=True\n",
        "    )\n",
        "    te = time.time()\n",
        "\n",
        "    print('total time:', te - ts)\n",
        "    acc = history.history['accuracy']\n",
        "    loss = history.history['loss']\n",
        "    val_acc = history.history['val_accuracy']\n",
        "    val_loss = history.history['val_loss']\n",
        "    ################################################################\n",
        "    ################################################################\n",
        "    #    load the weights for the best epoch (best val accuracy)\n",
        "    model.load_weights(checkpoint_filepath)\n",
        "    ################################################################\n",
        "    ################################################################\n",
        "    #    evaluate test data at the best epoch\n",
        "    [test_data_loss, test_data_accuracy] = model.evaluate(\n",
        "        test_x, test_y,\n",
        "        batch_size=len(test_x)\n",
        "    )\n",
        "    ################################################################\n",
        "    plt.plot(acc, label='train acc., best: {:.3f}'.format(max(acc)))\n",
        "    plt.plot(val_acc, label='validation acc. best: {:.3f}'.format(max(val_acc)))\n",
        "    plt.title('CNN relu, expanded train data, SGD, , eta={}, lmbda={}, {} epochs'.format(eta, lmbda, n_eph))\n",
        "    plt.axvline(x=np.argmax(val_acc), c='r', ls=':', label='best epoch: {}'.format(np.argmax(val_acc)))\n",
        "    plt.axhline(y=test_data_accuracy, c='r', label='test data accuracy at best epoch: {:.3f}'.format(test_data_accuracy))\n",
        "    plt.legend()\n",
        "    plt.show()\n",
        "    beep()\n",
        "    print('acc', acc)\n",
        "    print('loss', loss)\n",
        "    print('val_acc', val_acc)\n",
        "    print('val_loss', val_loss)\n",
        "\n",
        "beep()\n"
      ],
      "id": "bIz24UqAofEv",
      "execution_count": 8,
      "outputs": []
    },
    {
      "cell_type": "code",
      "metadata": {
        "id": "lSNDKJGpofME"
      },
      "source": [
        "def plot_decay(init_val, rate, nep):\n",
        "    dec_list = []\n",
        "    val = init_val\n",
        "    rate = rate\n",
        "    for i in range(nep):\n",
        "        dec_list.append(val)\n",
        "        val = rate * val\n",
        "\n",
        "    plt.plot(dec_list)\n",
        "    plt.axhline(min(dec_list))\n",
        "    plt.show()\n",
        "    print('init eta:', init_val)\n",
        "    print('min eta:', min(dec_list))\n",
        "    print('#' * 50)\n"
      ],
      "id": "lSNDKJGpofME",
      "execution_count": 9,
      "outputs": []
    },
    {
      "cell_type": "markdown",
      "metadata": {
        "id": "tBUFK-8H40OF"
      },
      "source": [
        "<h1>Start Training<h1/>"
      ],
      "id": "tBUFK-8H40OF"
    },
    {
      "cell_type": "markdown",
      "metadata": {
        "id": "TtikMmNoofmC"
      },
      "source": [
        "<h1>timing benchmark<h1>"
      ],
      "id": "TtikMmNoofmC"
    },
    {
      "cell_type": "code",
      "metadata": {
        "colab": {
          "base_uri": "https://localhost:8080/",
          "height": 1000
        },
        "id": "NAxr2MSSofr3",
        "outputId": "7088125e-bdd6-4fa1-ccde-de9367e37a38"
      },
      "source": [
        "lmbda = 0.1 / 10 / 10 / 10\n",
        "\n",
        "batch_size = 10\n",
        "n_eph = 88\n",
        "\n",
        "eta = 0.04\n",
        "\n",
        "decay_steps = int(len(train_x) / batch_size) # 1 decay per epoch\n",
        "\n",
        "decay_rate = 0.99\n",
        "\n",
        "plot_decay(eta, decay_rate, n_eph)\n",
        "\n",
        "a = train_cnn_sgd(\n",
        "    lmbda, \n",
        "    batch_size, \n",
        "    n_eph, \n",
        "    eta, \n",
        "    decay_steps, \n",
        "    decay_rate, \n",
        "    train_x,\n",
        "    train_y,\n",
        "    val_x, \n",
        "    val_y, \n",
        "    test_x, \n",
        "    test_y\n",
        ")\n"
      ],
      "id": "NAxr2MSSofr3",
      "execution_count": null,
      "outputs": [
        {
          "output_type": "display_data",
          "data": {
            "image/png": "[encoded data removed]",
            "text/plain": [
              "<Figure size 432x288 with 1 Axes>"
            ]
          },
          "metadata": {
            "needs_background": "light"
          }
        },
        {
          "output_type": "stream",
          "name": "stdout",
          "text": [
            "init eta: 0.04\n",
            "min eta: 0.01668483519732882\n",
            "##################################################\n",
            "lmbda= 0.0001\n",
            "\n",
            "eta= 0.04\n",
            "\n",
            "n_eph= 88\n",
            "\n",
            "batch_size= 10\n",
            "\n",
            "decay_steps= 75000\n",
            "\n",
            "decay_rate= 0.99\n",
            "\n",
            "Model: \"sequential\"\n",
            "_________________________________________________________________\n",
            " Layer (type)                Output Shape              Param #   \n",
            "=================================================================\n",
            " conv2d (Conv2D)             (None, 24, 24, 20)        520       \n",
            "                                                                 \n",
            " max_pooling2d (MaxPooling2D  (None, 12, 12, 20)       0         \n",
            " )                                                               \n",
            "                                                                 \n",
            " conv2d_1 (Conv2D)           (None, 8, 8, 40)          20040     \n",
            "                                                                 \n",
            " max_pooling2d_1 (MaxPooling  (None, 4, 4, 40)         0         \n",
            " 2D)                                                             \n",
            "                                                                 \n",
            " flatten (Flatten)           (None, 640)               0         \n",
            "                                                                 \n",
            " dense (Dense)               (None, 100)               64100     \n",
            "                                                                 \n",
            " dense_1 (Dense)             (None, 10)                1010      \n",
            "                                                                 \n",
            "=================================================================\n",
            "Total params: 85,670\n",
            "Trainable params: 85,670\n",
            "Non-trainable params: 0\n",
            "_________________________________________________________________\n",
            "Epoch 1/88\n",
            "75000/75000 [==============================] - 419s 5ms/step - loss: 0.0627 - accuracy: 0.9878 - val_loss: 0.0562 - val_accuracy: 0.9922\n",
            "Epoch 2/88\n",
            "75000/75000 [==============================] - 407s 5ms/step - loss: 0.0311 - accuracy: 0.9964 - val_loss: 0.0426 - val_accuracy: 0.9937\n",
            "Epoch 3/88\n",
            "75000/75000 [==============================] - 405s 5ms/step - loss: 0.0256 - accuracy: 0.9972 - val_loss: 0.0457 - val_accuracy: 0.9931\n",
            "Epoch 4/88\n",
            "75000/75000 [==============================] - 410s 5ms/step - loss: 0.0227 - accuracy: 0.9977 - val_loss: 0.0396 - val_accuracy: 0.9942\n",
            "Epoch 5/88\n",
            "75000/75000 [==============================] - 410s 5ms/step - loss: 0.0216 - accuracy: 0.9978 - val_loss: 0.0400 - val_accuracy: 0.9931\n",
            "Epoch 6/88\n",
            "75000/75000 [==============================] - 402s 5ms/step - loss: 0.0206 - accuracy: 0.9980 - val_loss: 0.0388 - val_accuracy: 0.9937\n",
            "Epoch 7/88\n",
            "75000/75000 [==============================] - 405s 5ms/step - loss: 0.0200 - accuracy: 0.9980 - val_loss: 0.0464 - val_accuracy: 0.9918\n",
            "Epoch 8/88\n",
            "60021/75000 [=======================>......] - ETA: 1:20 - loss: 0.0196 - accuracy: 0.9982"
          ]
        }
      ]
    },
    {
      "cell_type": "markdown",
      "metadata": {
        "id": "Q9RFIQ1lEnIN"
      },
      "source": [
        "<h1>Speed Difference:<h1/>\n",
        "<h2>>>>> local machine: 350s/epoch<h2/>\n",
        "<h2>>>>> colab: 419s/epoch<h2/>\n",
        "<h2>Time delta: -20%<h2/>\n",
        "<h3>Note: Using the same random seed, I got slightly different result on colab.<h3/>"
      ],
      "id": "Q9RFIQ1lEnIN"
    },
    {
      "cell_type": "code",
      "metadata": {
        "id": "irWUapzuEnMr"
      },
      "source": [
        ""
      ],
      "id": "irWUapzuEnMr",
      "execution_count": null,
      "outputs": []
    },
    {
      "cell_type": "code",
      "metadata": {
        "id": "M-X3kwoIEnRE"
      },
      "source": [
        ""
      ],
      "id": "M-X3kwoIEnRE",
      "execution_count": null,
      "outputs": []
    },
    {
      "cell_type": "code",
      "metadata": {
        "id": "cPC9DvOeEnVw"
      },
      "source": [
        ""
      ],
      "id": "cPC9DvOeEnVw",
      "execution_count": null,
      "outputs": []
    },
    {
      "cell_type": "code",
      "metadata": {
        "id": "r3YOjsUREnZ8"
      },
      "source": [
        ""
      ],
      "id": "r3YOjsUREnZ8",
      "execution_count": null,
      "outputs": []
    },
    {
      "cell_type": "code",
      "metadata": {
        "id": "X6LaBtiz9eKJ"
      },
      "source": [
        ""
      ],
      "id": "X6LaBtiz9eKJ",
      "execution_count": null,
      "outputs": []
    },
    {
      "cell_type": "code",
      "metadata": {
        "id": "WlHQbrCMDFjw"
      },
      "source": [
        ""
      ],
      "id": "WlHQbrCMDFjw",
      "execution_count": null,
      "outputs": []
    }
  ]
}